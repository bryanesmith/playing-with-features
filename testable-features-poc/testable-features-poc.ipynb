{
 "cells": [
  {
   "cell_type": "markdown",
   "id": "b90ed31b-b39a-4a43-b9d8-5b45f32fbe84",
   "metadata": {
    "tags": []
   },
   "source": [
    "# Purpose\n",
    "\n",
    "Demonstrate how to make SQL-based features testable and verifiable within Python client. See [client.py](client.py) for implementation.\n",
    "\n",
    "# Sample data\n",
    "\n",
    "The table looks like this:\n",
    "\n",
    "| date | state | death | ... other columns |\n",
    "| ---- | ----- | ----- | ----------------- |\n",
    "| 2021-03-07 | DC | 1030 | ... |\n",
    "| 2021-03-07 | NY | 39029 | ... |\n",
    "\n",
    "To better understand the data, let's take a look at the sample data currently loaded in GBQ:"
   ]
  },
  {
   "cell_type": "code",
   "execution_count": 1,
   "id": "8ab3f3ce-37dc-45d9-8bee-901d370d247e",
   "metadata": {},
   "outputs": [
    {
     "name": "stdout",
     "output_type": "stream",
     "text": [
      "Row((datetime.date(2021, 3, 7), 'AK', 305, 1293), {'date': 0, 'state': 1, 'death': 2, 'hospitalized': 3})\n",
      "Row((datetime.date(2021, 3, 7), 'AL', 10148, 45976), {'date': 0, 'state': 1, 'death': 2, 'hospitalized': 3})\n",
      "Row((datetime.date(2021, 3, 7), 'AR', 5319, 14926), {'date': 0, 'state': 1, 'death': 2, 'hospitalized': 3})\n",
      "Row((datetime.date(2021, 3, 7), 'AS', 0, None), {'date': 0, 'state': 1, 'death': 2, 'hospitalized': 3})\n",
      "Row((datetime.date(2021, 3, 7), 'AZ', 16328, 57907), {'date': 0, 'state': 1, 'death': 2, 'hospitalized': 3})\n"
     ]
    }
   ],
   "source": [
    "from google.cloud import bigquery\n",
    "\n",
    "client = bigquery.Client()\n",
    "\n",
    "QUERY = (\n",
    "    \"\"\"SELECT date, state, death, hospitalized \n",
    "         FROM `testable-features-poc.covid.us-states` \n",
    "        ORDER BY date DESC, state ASC\n",
    "        LIMIT 5\"\"\")\n",
    "query_job = client.query(QUERY)\n",
    "rows = query_job.result()\n",
    "\n",
    "for row in rows:\n",
    "    print(row)"
   ]
  },
  {
   "cell_type": "markdown",
   "id": "573799f1-d452-40be-ba70-1f39bf8bae7d",
   "metadata": {
    "tags": []
   },
   "source": [
    "# Define & validate feature\n",
    "We'll define the feature in our notebook, and prior publishing it we'll validate it against production data.\n",
    "\n",
    "Developers generally will not have direct access to production data on their laptops, so in practice, we'll probably need a service that proxies these requests between local environments and various prod and pre-prod environments."
   ]
  },
  {
   "cell_type": "code",
   "execution_count": 2,
   "id": "875b398d-c658-4af8-a977-d755983f98b5",
   "metadata": {
    "tags": []
   },
   "outputs": [],
   "source": [
    "from client import FeaturesClient, FeatureDefinition\n",
    "import os\n",
    "\n",
    "feature_def = FeatureDefinition(\"\"\"\n",
    "  sources:\n",
    "    - name: source1\n",
    "      environments:\n",
    "        - name: prod\n",
    "          value: testable-features-poc.covid.us-states\n",
    "  query: |\n",
    "    SELECT death\n",
    "      FROM `{{ source1 }}`\n",
    "     WHERE state = '{{ state }}'\n",
    "     ORDER BY date DESC\n",
    "     LIMIT 1\n",
    "\"\"\")\n",
    "\n",
    "c = FeaturesClient.load_feature(feature_def)"
   ]
  },
  {
   "cell_type": "code",
   "execution_count": 3,
   "id": "0652b875-4079-4240-9b49-445688d6cac1",
   "metadata": {},
   "outputs": [
    {
     "data": {
      "text/plain": [
       "1030"
      ]
     },
     "execution_count": 3,
     "metadata": {},
     "output_type": "execute_result"
    }
   ],
   "source": [
    "# connect to production environ to validate result\n",
    "os.environ['ENV'] = 'prod'\n",
    "\n",
    "# this should actually be a non-blocking LRO, like a future/promise...\n",
    "c.inference(state='DC')    # expect 1030"
   ]
  },
  {
   "cell_type": "markdown",
   "id": "f3e07fae-dd44-4d64-b8cd-623a505f5d7b",
   "metadata": {
    "tags": []
   },
   "source": [
    "# Unit test\n",
    "\n",
    "Now we'll write junit tests, enabling us to repeatedly validate our feature definition as well as test out edge cases."
   ]
  },
  {
   "cell_type": "code",
   "execution_count": 4,
   "id": "4e06c05f-1197-467c-a441-ac986bffe7cc",
   "metadata": {},
   "outputs": [],
   "source": [
    "from client import CSVSource\n",
    "\n",
    "# Condition via CSV file.\n",
    "#   Behind the scenes, this will load the CSV data into GBQ and create a reference to this table in feature definition\n",
    "\n",
    "data = CSVSource(\"\"\"\n",
    "\"date\",\"state\",\"death\"\n",
    "\"2021-11-27\",\"DC\",123\n",
    "\"2021-11-27\",\"VA\",456\n",
    "\"\"\")\n",
    "\n",
    "c.condition_env('dev', 'source1', data)"
   ]
  },
  {
   "cell_type": "code",
   "execution_count": 5,
   "id": "f15864a2-2ff5-49b0-9f80-cc03001704f7",
   "metadata": {},
   "outputs": [
    {
     "name": "stdout",
     "output_type": "stream",
     "text": [
      "tests passed.\n"
     ]
    }
   ],
   "source": [
    "# Switch to local development environment, which will use the data we conditioned\n",
    "os.environ['ENV'] = 'dev'\n",
    "\n",
    "# pytest goes here...\n",
    "assert 123 == c.inference(state='DC')\n",
    "assert None == c.inference(state='quebec')\n",
    "\n",
    "print(\"tests passed.\")"
   ]
  },
  {
   "cell_type": "markdown",
   "id": "88459bd5-161d-4a54-b56d-5b3e47d090bd",
   "metadata": {},
   "source": [
    "Note results are different for `dev` and `prod` environments. We can switch back and forth between these environments easily:"
   ]
  },
  {
   "cell_type": "code",
   "execution_count": 6,
   "id": "b4be1183-4cdb-4c8f-ae49-6d57a91f2dd4",
   "metadata": {},
   "outputs": [
    {
     "name": "stdout",
     "output_type": "stream",
     "text": [
      "tests passed.\n"
     ]
    }
   ],
   "source": [
    "os.environ['ENV'] = 'prod'\n",
    "assert 1030 == c.inference(state='DC')\n",
    "\n",
    "os.environ['ENV'] = 'dev'\n",
    "assert 123 == c.inference(state='DC')\n",
    "\n",
    "print(\"tests passed.\")"
   ]
  },
  {
   "cell_type": "markdown",
   "id": "782b1ade-d92b-4256-96f5-202fee11d949",
   "metadata": {},
   "source": [
    "# Integration and E2E tests\n",
    "\n",
    "This is equivalent to unit tests. You have three options for data sources:\n",
    "\n",
    "1. If the environment's data is static and shared, you can define it in the feature definition, alongside the `prod` environment\n",
    "2. You can considition it using CSV, as we did above with unit tests\n",
    "3. You can specify a table source dynamically, which we'll do below"
   ]
  },
  {
   "cell_type": "code",
   "execution_count": 7,
   "id": "c0f659db-d311-4aff-88b4-92da3e7cf3a4",
   "metadata": {},
   "outputs": [],
   "source": [
    "from client import TableSource\n",
    "\n",
    "# temporary table for e2e test on ephemeral stack\n",
    "data = TableSource(\"testable-features-poc.covid.us-states-0242ac130002\")\n",
    "\n",
    "c.condition_env('qa', 'source1', data)"
   ]
  },
  {
   "cell_type": "code",
   "execution_count": 8,
   "id": "f00a8de3-fda7-46ee-8e99-e0b490b0d2b3",
   "metadata": {},
   "outputs": [],
   "source": [
    "os.environ['ENV'] = 'qa'\n",
    "\n",
    "# ... tests run similar to above"
   ]
  },
  {
   "cell_type": "markdown",
   "id": "07c7ef75-47d2-4de5-afe4-412328f6f685",
   "metadata": {},
   "source": [
    "# Publish feature\n",
    "\n",
    "Now that we've validated and tested our feature definition, we can publish it -- either from our notebook, or better yet via CI/CD."
   ]
  },
  {
   "cell_type": "code",
   "execution_count": 9,
   "id": "17b9bffb-7a9d-4239-b8a2-1779d6e3e1c3",
   "metadata": {},
   "outputs": [],
   "source": [
    "from client import FeatureRegistry\n",
    "\n",
    "FeatureRegistry.publish(feature_def)"
   ]
  },
  {
   "cell_type": "markdown",
   "id": "9d1ae02e-c856-4873-a7bb-b550ed9c7daa",
   "metadata": {},
   "source": [
    "Once published, the feature definition is immutable. A client can fetch the definition via a handle (e.g., a UUID). Note this is equivalent to using the local definition, as this notebook did; this enables us to thoroughly test our feature prior to publishing, but providing portability."
   ]
  }
 ],
 "metadata": {
  "kernelspec": {
   "display_name": "Python 3 (ipykernel)",
   "language": "python",
   "name": "python3"
  },
  "language_info": {
   "codemirror_mode": {
    "name": "ipython",
    "version": 3
   },
   "file_extension": ".py",
   "mimetype": "text/x-python",
   "name": "python",
   "nbconvert_exporter": "python",
   "pygments_lexer": "ipython3",
   "version": "3.8.12"
  }
 },
 "nbformat": 4,
 "nbformat_minor": 5
}
