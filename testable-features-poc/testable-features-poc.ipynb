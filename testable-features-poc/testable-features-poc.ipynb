{
 "cells": [
  {
   "cell_type": "markdown",
   "id": "b90ed31b-b39a-4a43-b9d8-5b45f32fbe84",
   "metadata": {},
   "source": [
    "# Purpose\n",
    "\n",
    "Demonstrate how to make SQL-based features testable and verifiable within Python client, as well as show how the same client can run in pre-production and production environments.\n",
    "\n",
    "# Setup\n",
    "\n",
    "To reproduce this, you'll need to:\n",
    "\n",
    "1. Install dependencies: `pip install google-cloud-bigquery pyyaml jinja2`\n",
    "1. Setup [GCP authenication](https://cloud.google.com/docs/authentication/getting-started)\n",
    "1. Create a BigQuery table and populate using the national summary data from the [Atlantic COVID Tracking Project data](https://covidtracking.com/data/download).\n",
    "\n",
    "# Sample data\n",
    "\n",
    "Here's a sample query using the BigQuery client."
   ]
  },
  {
   "cell_type": "code",
   "execution_count": 56,
   "id": "8ab3f3ce-37dc-45d9-8bee-901d370d247e",
   "metadata": {},
   "outputs": [
    {
     "name": "stdout",
     "output_type": "stream",
     "text": [
      "Row((datetime.date(2021, 3, 7), 'AK', 305, 1293), {'date': 0, 'state': 1, 'death': 2, 'hospitalized': 3})\n",
      "Row((datetime.date(2021, 3, 7), 'AL', 10148, 45976), {'date': 0, 'state': 1, 'death': 2, 'hospitalized': 3})\n",
      "Row((datetime.date(2021, 3, 7), 'AR', 5319, 14926), {'date': 0, 'state': 1, 'death': 2, 'hospitalized': 3})\n",
      "Row((datetime.date(2021, 3, 7), 'AS', 0, None), {'date': 0, 'state': 1, 'death': 2, 'hospitalized': 3})\n",
      "Row((datetime.date(2021, 3, 7), 'AZ', 16328, 57907), {'date': 0, 'state': 1, 'death': 2, 'hospitalized': 3})\n"
     ]
    }
   ],
   "source": [
    "from google.cloud import bigquery\n",
    "\n",
    "client = bigquery.Client()\n",
    "\n",
    "QUERY = (\n",
    "    \"\"\"SELECT date, state, death, hospitalized \n",
    "         FROM `testable-features-poc.covid.us-states` \n",
    "        ORDER BY date DESC, state ASC\n",
    "        LIMIT 5\"\"\")\n",
    "query_job = client.query(QUERY)\n",
    "rows = query_job.result()\n",
    "\n",
    "for row in rows:\n",
    "    print(row)"
   ]
  },
  {
   "cell_type": "markdown",
   "id": "573799f1-d452-40be-ba70-1f39bf8bae7d",
   "metadata": {},
   "source": [
    "## xxx\n",
    "xxx"
   ]
  },
  {
   "cell_type": "code",
   "execution_count": 91,
   "id": "875b398d-c658-4af8-a977-d755983f98b5",
   "metadata": {},
   "outputs": [],
   "source": [
    "import yaml\n",
    "\n",
    "feature_def = yaml.safe_load(\"\"\"\n",
    "  parameters:\n",
    "    - foo: bar\n",
    "  sources:\n",
    "    - source1: testable-features-poc.covid.us-states\n",
    "  query: |\n",
    "    SELECT death\n",
    "      FROM `testable-features-poc.covid.us-states`\n",
    "     WHERE state = '{{ state }}'\n",
    "     ORDER BY date DESC\n",
    "     LIMIT 1\n",
    "\"\"\")"
   ]
  },
  {
   "cell_type": "code",
   "execution_count": 96,
   "id": "67e4c27d-0b94-4f31-b690-dd3cff18171b",
   "metadata": {},
   "outputs": [],
   "source": [
    "from jinja2 import Template\n",
    "\n",
    "class Connection:\n",
    "    \n",
    "    def __init__(self, feature):\n",
    "        self.feature_def = feature\n",
    "        self.gbq = bigquery.Client()\n",
    "    \n",
    "    def inference(self, **kwargs):\n",
    "        t = Template(self.feature_def['query'])\n",
    "        q = t.render(kwargs)\n",
    "        #print(q)\n",
    "        job = self.gbq.query(q)\n",
    "        val = next(job.result(), None)\n",
    "        return val[0] if val else None\n",
    "    \n",
    "    def close(self):\n",
    "        print(\"closed\")\n",
    "\n",
    "class FeaturesClient:\n",
    "        \n",
    "    @classmethod\n",
    "    def load_feature(cls, feature):\n",
    "        return Connection(feature)"
   ]
  },
  {
   "cell_type": "code",
   "execution_count": 99,
   "id": "0bd7f9f1-bd44-4960-86cc-93313d12a17f",
   "metadata": {},
   "outputs": [
    {
     "name": "stdout",
     "output_type": "stream",
     "text": [
      "1030\n"
     ]
    }
   ],
   "source": [
    "c = FeaturesClient.load_feature(feature_def)\n",
    "r = c.inference(state=\"DC\")\n",
    "print(r)"
   ]
  },
  {
   "cell_type": "code",
   "execution_count": null,
   "id": "64730ffd-d460-4870-96d4-35a32cd0781b",
   "metadata": {},
   "outputs": [],
   "source": []
  }
 ],
 "metadata": {
  "kernelspec": {
   "display_name": "Python 3 (ipykernel)",
   "language": "python",
   "name": "python3"
  },
  "language_info": {
   "codemirror_mode": {
    "name": "ipython",
    "version": 3
   },
   "file_extension": ".py",
   "mimetype": "text/x-python",
   "name": "python",
   "nbconvert_exporter": "python",
   "pygments_lexer": "ipython3",
   "version": "3.8.12"
  }
 },
 "nbformat": 4,
 "nbformat_minor": 5
}
