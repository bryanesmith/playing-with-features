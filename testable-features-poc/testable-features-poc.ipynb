{
 "cells": [
  {
   "cell_type": "markdown",
   "id": "b90ed31b-b39a-4a43-b9d8-5b45f32fbe84",
   "metadata": {
    "tags": []
   },
   "source": [
    "# Purpose\n",
    "\n",
    "Demonstrate how to make SQL-based features testable and verifiable within Python client, as well as show how the same client can run in pre-production and production environments.\n",
    "\n",
    "# Setup\n",
    "\n",
    "To reproduce this, you'll need to:\n",
    "\n",
    "1. Install dependencies: `pip install google-cloud-bigquery pyyaml jinja2`\n",
    "1. Setup [GCP authenication](https://cloud.google.com/docs/authentication/getting-started)\n",
    "1. Create a BigQuery table and populate using the national summary data from the [Atlantic COVID Tracking Project data](https://covidtracking.com/data/download).\n",
    "\n",
    "# Sample data\n",
    "\n",
    "Here's a sample query using the BigQuery client."
   ]
  },
  {
   "cell_type": "code",
   "execution_count": 1,
   "id": "8ab3f3ce-37dc-45d9-8bee-901d370d247e",
   "metadata": {},
   "outputs": [
    {
     "name": "stdout",
     "output_type": "stream",
     "text": [
      "Row((datetime.date(2021, 3, 7), 'AK', 305, 1293), {'date': 0, 'state': 1, 'death': 2, 'hospitalized': 3})\n",
      "Row((datetime.date(2021, 3, 7), 'AL', 10148, 45976), {'date': 0, 'state': 1, 'death': 2, 'hospitalized': 3})\n",
      "Row((datetime.date(2021, 3, 7), 'AR', 5319, 14926), {'date': 0, 'state': 1, 'death': 2, 'hospitalized': 3})\n",
      "Row((datetime.date(2021, 3, 7), 'AS', 0, None), {'date': 0, 'state': 1, 'death': 2, 'hospitalized': 3})\n",
      "Row((datetime.date(2021, 3, 7), 'AZ', 16328, 57907), {'date': 0, 'state': 1, 'death': 2, 'hospitalized': 3})\n"
     ]
    }
   ],
   "source": [
    "from google.cloud import bigquery\n",
    "\n",
    "client = bigquery.Client()\n",
    "\n",
    "QUERY = (\n",
    "    \"\"\"SELECT date, state, death, hospitalized \n",
    "         FROM `testable-features-poc.covid.us-states` \n",
    "        ORDER BY date DESC, state ASC\n",
    "        LIMIT 5\"\"\")\n",
    "query_job = client.query(QUERY)\n",
    "rows = query_job.result()\n",
    "\n",
    "for row in rows:\n",
    "    print(row)"
   ]
  },
  {
   "cell_type": "markdown",
   "id": "573799f1-d452-40be-ba70-1f39bf8bae7d",
   "metadata": {},
   "source": [
    "## Define & validate feature\n",
    "We'll define the feature in our notebook, and without publishing it, validate it against production data.\n",
    "\n",
    "I doubt developers will get direct access to production data on their notebooks, so in practice, we'll probably need a service that proxies these requests between local environments and various prod and pre-prod environments."
   ]
  },
  {
   "cell_type": "code",
   "execution_count": 53,
   "id": "875b398d-c658-4af8-a977-d755983f98b5",
   "metadata": {},
   "outputs": [],
   "source": [
    "import yaml\n",
    "\n",
    "feature_def = yaml.safe_load(\"\"\"\n",
    "  parameters:\n",
    "    - foo: bar\n",
    "  sources:\n",
    "    - source1: \n",
    "        prod: testable-features-poc.covid.us-states\n",
    "  query: |\n",
    "    SELECT death\n",
    "      FROM `{{ source1 }}`\n",
    "     WHERE state = '{{ state }}'\n",
    "     ORDER BY date DESC\n",
    "     LIMIT 1\n",
    "\"\"\")"
   ]
  },
  {
   "cell_type": "code",
   "execution_count": 98,
   "id": "67e4c27d-0b94-4f31-b690-dd3cff18171b",
   "metadata": {},
   "outputs": [],
   "source": [
    "from jinja2 import Template\n",
    "import csv\n",
    "import os\n",
    "\n",
    "class Connection:\n",
    "    \n",
    "    def __init__(self, feature):\n",
    "        self.feature_def = feature\n",
    "        self.gbq = bigquery.Client()\n",
    "    \n",
    "    def _build_sources(self, env):\n",
    "        srcs = self.feature_def['sources']\n",
    "        src_map = {}\n",
    "        \n",
    "        # Convert [ { 'source1': { 'env1': 'src1', 'env2': 'src2' } }, ... ]\n",
    "        #   to { 'source1': 'src1, ... } using specified environment\n",
    "        for src in srcs:\n",
    "            for src_key in src:\n",
    "                src_map[src_key] = src[src_key][env]\n",
    "        return src_map\n",
    "    \n",
    "    def _build_query(self, **kwargs):\n",
    "        t = Template(self.feature_def['query'])\n",
    "        srcs = self._build_sources(os.getenv('ENV'))\n",
    "        return t.render({**kwargs, **srcs})\n",
    "    \n",
    "    def condition_env(self, data, env):\n",
    "        lines = data.strip().splitlines()\n",
    "        reader = csv.reader(lines)\n",
    "        parsed = list(reader)\n",
    "        headers = parsed[0]\n",
    "        data = parsed[1::]\n",
    "        print(headers)\n",
    "        print(data)\n",
    "    \n",
    "    def inference(self, **kwargs):\n",
    "        q = self._build_query(**kwargs)\n",
    "        job = self.gbq.query(q)\n",
    "        val = next(job.result(), None)\n",
    "        return val[0] if val else None\n",
    "    \n",
    "    def close(self):\n",
    "        print(\"closed\")\n",
    "\n",
    "class FeaturesClient:\n",
    "        \n",
    "    @classmethod\n",
    "    def load_feature(cls, feature):\n",
    "        return Connection(feature)"
   ]
  },
  {
   "cell_type": "code",
   "execution_count": 95,
   "id": "0bd7f9f1-bd44-4960-86cc-93313d12a17f",
   "metadata": {},
   "outputs": [
    {
     "data": {
      "text/plain": [
       "1030"
      ]
     },
     "execution_count": 95,
     "metadata": {},
     "output_type": "execute_result"
    }
   ],
   "source": [
    "import os\n",
    "\n",
    "# connect to production environ to validate result\n",
    "os.environ[\"ENV\"] = \"prod\" \n",
    "\n",
    "c = FeaturesClient.load_feature(feature_def)\n",
    "\n",
    "# this is a non-blocking LRO, like a future/promise...\n",
    "c.inference(state=\"DC\")    # expect 1030"
   ]
  },
  {
   "cell_type": "markdown",
   "id": "f3e07fae-dd44-4d64-b8cd-623a505f5d7b",
   "metadata": {},
   "source": [
    "# Unit test\n",
    "\n",
    "Now we'll write junit tests, enabling us to repeatedly validate our feature definition as well as test out edge cases."
   ]
  },
  {
   "cell_type": "code",
   "execution_count": 133,
   "id": "d1e630b6-7c84-49f6-a742-6f1691cec581",
   "metadata": {},
   "outputs": [
    {
     "name": "stdout",
     "output_type": "stream",
     "text": [
      "\n",
      "CREATE TABLE `testable-features-poc.covid.us-states-9dc9c4be-6dd6-4c87-a1d2-14b814fd047c`\n",
      "    OPTIONS (\n",
      "      expiration_timestamp=TIMESTAMP_ADD(CURRENT_TIMESTAMP(), INTERVAL 1 HOUR)\n",
      "    )\n",
      "    AS SELECT * FROM `testable-features-poc.covid.us-states` LIMIT 0\n",
      "\n",
      "['date, state, death', '\"2021-11-27\",\"DC\",123', '\"2021-11-27\",\"VA\",456']\n",
      "['date', ' state', ' death']\n",
      "[['2021-11-27', 'DC', '123'], ['2021-11-27', 'VA', '456']]\n",
      "['(\"2021-11-27\",\"DC\",\"123\")', '(\"2021-11-27\",\"VA\",\"456\")']\n",
      "\n",
      "INSERT INTO `testable-features-poc.covid.us-states-9dc9c4be-6dd6-4c87-a1d2-14b814fd047c`\n",
      "  (date, state, death)\n",
      "VALUES (\"2021-11-27\",\"DC\",\"123\"),(\"2021-11-27\",\"VA\",\"456\")\n",
      "\n"
     ]
    },
    {
     "ename": "BadRequest",
     "evalue": "400 Value has type STRING which cannot be inserted into column death, which has type INT64 at [4:27]\n\n(job ID: 88a49f11-bc0e-4aa8-bb21-362f965fcd8b)\n\n                               -----Query Job SQL Follows-----                               \n\n    |    .    |    .    |    .    |    .    |    .    |    .    |    .    |    .    |\n   1:\n   2:INSERT INTO `testable-features-poc.covid.us-states-9dc9c4be-6dd6-4c87-a1d2-14b814fd047c`\n   3:  (date, state, death)\n   4:VALUES (\"2021-11-27\",\"DC\",\"123\"),(\"2021-11-27\",\"VA\",\"456\")\n    |    .    |    .    |    .    |    .    |    .    |    .    |    .    |    .    |",
     "output_type": "error",
     "traceback": [
      "\u001b[0;31m---------------------------------------------------------------------------\u001b[0m",
      "\u001b[0;31mBadRequest\u001b[0m                                Traceback (most recent call last)",
      "\u001b[0;32m/var/folders/bs/hdjslfhn7blgcwqlhgzvkdmh0000gp/T/ipykernel_36872/2834721191.py\u001b[0m in \u001b[0;36m<module>\u001b[0;34m\u001b[0m\n\u001b[1;32m     53\u001b[0m \u001b[0mprint\u001b[0m\u001b[0;34m(\u001b[0m\u001b[0mquery\u001b[0m\u001b[0;34m)\u001b[0m\u001b[0;34m\u001b[0m\u001b[0;34m\u001b[0m\u001b[0m\n\u001b[1;32m     54\u001b[0m \u001b[0mquery_job\u001b[0m \u001b[0;34m=\u001b[0m \u001b[0mclient\u001b[0m\u001b[0;34m.\u001b[0m\u001b[0mquery\u001b[0m\u001b[0;34m(\u001b[0m\u001b[0mquery\u001b[0m\u001b[0;34m)\u001b[0m\u001b[0;34m\u001b[0m\u001b[0;34m\u001b[0m\u001b[0m\n\u001b[0;32m---> 55\u001b[0;31m \u001b[0mquery_job\u001b[0m\u001b[0;34m.\u001b[0m\u001b[0mresult\u001b[0m\u001b[0;34m(\u001b[0m\u001b[0;34m)\u001b[0m\u001b[0;34m\u001b[0m\u001b[0;34m\u001b[0m\u001b[0m\n\u001b[0m",
      "\u001b[0;32m~/venv/python-3.8.12/lib/python3.8/site-packages/google/cloud/bigquery/job/query.py\u001b[0m in \u001b[0;36mresult\u001b[0;34m(self, page_size, max_results, retry, timeout, start_index, job_retry)\u001b[0m\n\u001b[1;32m   1448\u001b[0m                 \u001b[0mdo_get_result\u001b[0m \u001b[0;34m=\u001b[0m \u001b[0mjob_retry\u001b[0m\u001b[0;34m(\u001b[0m\u001b[0mdo_get_result\u001b[0m\u001b[0;34m)\u001b[0m\u001b[0;34m\u001b[0m\u001b[0;34m\u001b[0m\u001b[0m\n\u001b[1;32m   1449\u001b[0m \u001b[0;34m\u001b[0m\u001b[0m\n\u001b[0;32m-> 1450\u001b[0;31m             \u001b[0mdo_get_result\u001b[0m\u001b[0;34m(\u001b[0m\u001b[0;34m)\u001b[0m\u001b[0;34m\u001b[0m\u001b[0;34m\u001b[0m\u001b[0m\n\u001b[0m\u001b[1;32m   1451\u001b[0m \u001b[0;34m\u001b[0m\u001b[0m\n\u001b[1;32m   1452\u001b[0m         \u001b[0;32mexcept\u001b[0m \u001b[0mexceptions\u001b[0m\u001b[0;34m.\u001b[0m\u001b[0mGoogleAPICallError\u001b[0m \u001b[0;32mas\u001b[0m \u001b[0mexc\u001b[0m\u001b[0;34m:\u001b[0m\u001b[0;34m\u001b[0m\u001b[0;34m\u001b[0m\u001b[0m\n",
      "\u001b[0;32m~/venv/python-3.8.12/lib/python3.8/site-packages/google/api_core/retry.py\u001b[0m in \u001b[0;36mretry_wrapped_func\u001b[0;34m(*args, **kwargs)\u001b[0m\n\u001b[1;32m    281\u001b[0m                 \u001b[0mself\u001b[0m\u001b[0;34m.\u001b[0m\u001b[0m_initial\u001b[0m\u001b[0;34m,\u001b[0m \u001b[0mself\u001b[0m\u001b[0;34m.\u001b[0m\u001b[0m_maximum\u001b[0m\u001b[0;34m,\u001b[0m \u001b[0mmultiplier\u001b[0m\u001b[0;34m=\u001b[0m\u001b[0mself\u001b[0m\u001b[0;34m.\u001b[0m\u001b[0m_multiplier\u001b[0m\u001b[0;34m\u001b[0m\u001b[0;34m\u001b[0m\u001b[0m\n\u001b[1;32m    282\u001b[0m             )\n\u001b[0;32m--> 283\u001b[0;31m             return retry_target(\n\u001b[0m\u001b[1;32m    284\u001b[0m                 \u001b[0mtarget\u001b[0m\u001b[0;34m,\u001b[0m\u001b[0;34m\u001b[0m\u001b[0;34m\u001b[0m\u001b[0m\n\u001b[1;32m    285\u001b[0m                 \u001b[0mself\u001b[0m\u001b[0;34m.\u001b[0m\u001b[0m_predicate\u001b[0m\u001b[0;34m,\u001b[0m\u001b[0;34m\u001b[0m\u001b[0;34m\u001b[0m\u001b[0m\n",
      "\u001b[0;32m~/venv/python-3.8.12/lib/python3.8/site-packages/google/api_core/retry.py\u001b[0m in \u001b[0;36mretry_target\u001b[0;34m(target, predicate, sleep_generator, deadline, on_error)\u001b[0m\n\u001b[1;32m    188\u001b[0m     \u001b[0;32mfor\u001b[0m \u001b[0msleep\u001b[0m \u001b[0;32min\u001b[0m \u001b[0msleep_generator\u001b[0m\u001b[0;34m:\u001b[0m\u001b[0;34m\u001b[0m\u001b[0;34m\u001b[0m\u001b[0m\n\u001b[1;32m    189\u001b[0m         \u001b[0;32mtry\u001b[0m\u001b[0;34m:\u001b[0m\u001b[0;34m\u001b[0m\u001b[0;34m\u001b[0m\u001b[0m\n\u001b[0;32m--> 190\u001b[0;31m             \u001b[0;32mreturn\u001b[0m \u001b[0mtarget\u001b[0m\u001b[0;34m(\u001b[0m\u001b[0;34m)\u001b[0m\u001b[0;34m\u001b[0m\u001b[0;34m\u001b[0m\u001b[0m\n\u001b[0m\u001b[1;32m    191\u001b[0m \u001b[0;34m\u001b[0m\u001b[0m\n\u001b[1;32m    192\u001b[0m         \u001b[0;31m# pylint: disable=broad-except\u001b[0m\u001b[0;34m\u001b[0m\u001b[0;34m\u001b[0m\u001b[0;34m\u001b[0m\u001b[0m\n",
      "\u001b[0;32m~/venv/python-3.8.12/lib/python3.8/site-packages/google/cloud/bigquery/job/query.py\u001b[0m in \u001b[0;36mdo_get_result\u001b[0;34m()\u001b[0m\n\u001b[1;32m   1438\u001b[0m                     \u001b[0mself\u001b[0m\u001b[0;34m.\u001b[0m\u001b[0m_job_retry\u001b[0m \u001b[0;34m=\u001b[0m \u001b[0mjob_retry\u001b[0m\u001b[0;34m\u001b[0m\u001b[0;34m\u001b[0m\u001b[0m\n\u001b[1;32m   1439\u001b[0m \u001b[0;34m\u001b[0m\u001b[0m\n\u001b[0;32m-> 1440\u001b[0;31m                 \u001b[0msuper\u001b[0m\u001b[0;34m(\u001b[0m\u001b[0mQueryJob\u001b[0m\u001b[0;34m,\u001b[0m \u001b[0mself\u001b[0m\u001b[0;34m)\u001b[0m\u001b[0;34m.\u001b[0m\u001b[0mresult\u001b[0m\u001b[0;34m(\u001b[0m\u001b[0mretry\u001b[0m\u001b[0;34m=\u001b[0m\u001b[0mretry\u001b[0m\u001b[0;34m,\u001b[0m \u001b[0mtimeout\u001b[0m\u001b[0;34m=\u001b[0m\u001b[0mtimeout\u001b[0m\u001b[0;34m)\u001b[0m\u001b[0;34m\u001b[0m\u001b[0;34m\u001b[0m\u001b[0m\n\u001b[0m\u001b[1;32m   1441\u001b[0m \u001b[0;34m\u001b[0m\u001b[0m\n\u001b[1;32m   1442\u001b[0m                 \u001b[0;31m# Since the job could already be \"done\" (e.g. got a finished job\u001b[0m\u001b[0;34m\u001b[0m\u001b[0;34m\u001b[0m\u001b[0;34m\u001b[0m\u001b[0m\n",
      "\u001b[0;32m~/venv/python-3.8.12/lib/python3.8/site-packages/google/cloud/bigquery/job/base.py\u001b[0m in \u001b[0;36mresult\u001b[0;34m(self, retry, timeout)\u001b[0m\n\u001b[1;32m    725\u001b[0m \u001b[0;34m\u001b[0m\u001b[0m\n\u001b[1;32m    726\u001b[0m         \u001b[0mkwargs\u001b[0m \u001b[0;34m=\u001b[0m \u001b[0;34m{\u001b[0m\u001b[0;34m}\u001b[0m \u001b[0;32mif\u001b[0m \u001b[0mretry\u001b[0m \u001b[0;32mis\u001b[0m \u001b[0mDEFAULT_RETRY\u001b[0m \u001b[0;32melse\u001b[0m \u001b[0;34m{\u001b[0m\u001b[0;34m\"retry\"\u001b[0m\u001b[0;34m:\u001b[0m \u001b[0mretry\u001b[0m\u001b[0;34m}\u001b[0m\u001b[0;34m\u001b[0m\u001b[0;34m\u001b[0m\u001b[0m\n\u001b[0;32m--> 727\u001b[0;31m         \u001b[0;32mreturn\u001b[0m \u001b[0msuper\u001b[0m\u001b[0;34m(\u001b[0m\u001b[0m_AsyncJob\u001b[0m\u001b[0;34m,\u001b[0m \u001b[0mself\u001b[0m\u001b[0;34m)\u001b[0m\u001b[0;34m.\u001b[0m\u001b[0mresult\u001b[0m\u001b[0;34m(\u001b[0m\u001b[0mtimeout\u001b[0m\u001b[0;34m=\u001b[0m\u001b[0mtimeout\u001b[0m\u001b[0;34m,\u001b[0m \u001b[0;34m**\u001b[0m\u001b[0mkwargs\u001b[0m\u001b[0;34m)\u001b[0m\u001b[0;34m\u001b[0m\u001b[0;34m\u001b[0m\u001b[0m\n\u001b[0m\u001b[1;32m    728\u001b[0m \u001b[0;34m\u001b[0m\u001b[0m\n\u001b[1;32m    729\u001b[0m     \u001b[0;32mdef\u001b[0m \u001b[0mcancelled\u001b[0m\u001b[0;34m(\u001b[0m\u001b[0mself\u001b[0m\u001b[0;34m)\u001b[0m\u001b[0;34m:\u001b[0m\u001b[0;34m\u001b[0m\u001b[0;34m\u001b[0m\u001b[0m\n",
      "\u001b[0;32m~/venv/python-3.8.12/lib/python3.8/site-packages/google/api_core/future/polling.py\u001b[0m in \u001b[0;36mresult\u001b[0;34m(self, timeout, retry)\u001b[0m\n\u001b[1;32m    135\u001b[0m             \u001b[0;31m# pylint: disable=raising-bad-type\u001b[0m\u001b[0;34m\u001b[0m\u001b[0;34m\u001b[0m\u001b[0;34m\u001b[0m\u001b[0m\n\u001b[1;32m    136\u001b[0m             \u001b[0;31m# Pylint doesn't recognize that this is valid in this case.\u001b[0m\u001b[0;34m\u001b[0m\u001b[0;34m\u001b[0m\u001b[0;34m\u001b[0m\u001b[0m\n\u001b[0;32m--> 137\u001b[0;31m             \u001b[0;32mraise\u001b[0m \u001b[0mself\u001b[0m\u001b[0;34m.\u001b[0m\u001b[0m_exception\u001b[0m\u001b[0;34m\u001b[0m\u001b[0;34m\u001b[0m\u001b[0m\n\u001b[0m\u001b[1;32m    138\u001b[0m \u001b[0;34m\u001b[0m\u001b[0m\n\u001b[1;32m    139\u001b[0m         \u001b[0;32mreturn\u001b[0m \u001b[0mself\u001b[0m\u001b[0;34m.\u001b[0m\u001b[0m_result\u001b[0m\u001b[0;34m\u001b[0m\u001b[0;34m\u001b[0m\u001b[0m\n",
      "\u001b[0;31mBadRequest\u001b[0m: 400 Value has type STRING which cannot be inserted into column death, which has type INT64 at [4:27]\n\n(job ID: 88a49f11-bc0e-4aa8-bb21-362f965fcd8b)\n\n                               -----Query Job SQL Follows-----                               \n\n    |    .    |    .    |    .    |    .    |    .    |    .    |    .    |    .    |\n   1:\n   2:INSERT INTO `testable-features-poc.covid.us-states-9dc9c4be-6dd6-4c87-a1d2-14b814fd047c`\n   3:  (date, state, death)\n   4:VALUES (\"2021-11-27\",\"DC\",\"123\"),(\"2021-11-27\",\"VA\",\"456\")\n    |    .    |    .    |    .    |    .    |    .    |    .    |    .    |    .    |"
     ]
    }
   ],
   "source": [
    "import uuid\n",
    "\n",
    "data = \"\"\"\n",
    "date, state, death\n",
    "\"2021-11-27\",\"DC\",123\n",
    "\"2021-11-27\",\"VA\",456\n",
    "\"\"\"\n",
    "\n",
    "#c.condition_env(data, \"dev\")\n",
    "\n",
    "\n",
    "client = bigquery.Client()\n",
    "\n",
    "# TODO: use the feature definition sources instead of hard coding\n",
    "tmp_table_name = \"testable-features-poc.covid.us-states-{}\".format(str(uuid.uuid4()))\n",
    "query = \"\"\"\n",
    "CREATE TABLE `{}`\n",
    "    OPTIONS (\n",
    "      expiration_timestamp=TIMESTAMP_ADD(CURRENT_TIMESTAMP(), INTERVAL 1 HOUR)\n",
    "    )\n",
    "    AS SELECT * FROM `testable-features-poc.covid.us-states` LIMIT 0\n",
    "\"\"\".format(tmp_table_name)\n",
    "\n",
    "print(query)\n",
    "\n",
    "query_job = client.query(query)\n",
    "query_job.result()\n",
    "\n",
    "#\n",
    "# TODO: put CSV in Cloud Storage and import. this is quick hack.\n",
    "#\n",
    "lines = data.strip().splitlines()\n",
    "print(lines)\n",
    "reader = csv.reader(lines)\n",
    "parsed = list(reader)\n",
    "headers = parsed[0]\n",
    "data = parsed[1::]\n",
    "print(headers)\n",
    "print(data)\n",
    "\n",
    "\n",
    "cols_str = \",\".join(headers)\n",
    "vals_str_tmp = [\"({})\".format(\",\".join([\"\\\"{}\\\"\".format(d) for d in row])) for row in data]\n",
    "print(vals_str_tmp)\n",
    "vals_str = \",\".join(vals_str_tmp)\n",
    "\n",
    "query = \"\"\"\n",
    "INSERT INTO `{}`\n",
    "  ({})\n",
    "VALUES {}\n",
    "\"\"\".format(tmp_table_name, cols_str, vals_str)\n",
    "\n",
    "print(query)\n",
    "query_job = client.query(query)\n",
    "query_job.result()"
   ]
  },
  {
   "cell_type": "code",
   "execution_count": 103,
   "id": "4e06c05f-1197-467c-a441-ac986bffe7cc",
   "metadata": {},
   "outputs": [],
   "source": [
    "os.environ[\"ENV\"] = \"dev\"\n",
    "\n"
   ]
  },
  {
   "cell_type": "code",
   "execution_count": null,
   "id": "f15864a2-2ff5-49b0-9f80-cc03001704f7",
   "metadata": {},
   "outputs": [],
   "source": []
  },
  {
   "cell_type": "code",
   "execution_count": null,
   "id": "91505b2c-010c-4d22-a7ef-6c4a7d5732ad",
   "metadata": {},
   "outputs": [],
   "source": []
  }
 ],
 "metadata": {
  "kernelspec": {
   "display_name": "Python 3 (ipykernel)",
   "language": "python",
   "name": "python3"
  },
  "language_info": {
   "codemirror_mode": {
    "name": "ipython",
    "version": 3
   },
   "file_extension": ".py",
   "mimetype": "text/x-python",
   "name": "python",
   "nbconvert_exporter": "python",
   "pygments_lexer": "ipython3",
   "version": "3.8.12"
  }
 },
 "nbformat": 4,
 "nbformat_minor": 5
}
