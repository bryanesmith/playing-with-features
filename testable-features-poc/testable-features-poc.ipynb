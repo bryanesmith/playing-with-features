{
 "cells": [
  {
   "cell_type": "markdown",
   "id": "b90ed31b-b39a-4a43-b9d8-5b45f32fbe84",
   "metadata": {
    "tags": []
   },
   "source": [
    "# Purpose\n",
    "\n",
    "Demonstrate how to make SQL-based features testable and verifiable within Python client, as well as show how the same client can run in pre-production and production environments.\n",
    "\n",
    "# Setup\n",
    "\n",
    "To reproduce this, you'll need to:\n",
    "\n",
    "1. Install dependencies: `pip install google-cloud-bigquery google-cloud-storage jinja2 pyyaml`\n",
    "1. Setup [GCP authenication](https://cloud.google.com/docs/authentication/getting-started)\n",
    "1. Create a BigQuery table and populate using the national summary data from the [Atlantic COVID Tracking Project data](https://covidtracking.com/data/download).\n",
    "1. You'll need to tweak the code in `client.py`\n",
    "\n",
    "# Sample data\n",
    "\n",
    "Here's a sample query using the BigQuery client."
   ]
  },
  {
   "cell_type": "code",
   "execution_count": 1,
   "id": "8ab3f3ce-37dc-45d9-8bee-901d370d247e",
   "metadata": {},
   "outputs": [
    {
     "name": "stdout",
     "output_type": "stream",
     "text": [
      "Row((datetime.date(2021, 3, 7), 'AK', 305, 1293), {'date': 0, 'state': 1, 'death': 2, 'hospitalized': 3})\n",
      "Row((datetime.date(2021, 3, 7), 'AL', 10148, 45976), {'date': 0, 'state': 1, 'death': 2, 'hospitalized': 3})\n",
      "Row((datetime.date(2021, 3, 7), 'AR', 5319, 14926), {'date': 0, 'state': 1, 'death': 2, 'hospitalized': 3})\n",
      "Row((datetime.date(2021, 3, 7), 'AS', 0, None), {'date': 0, 'state': 1, 'death': 2, 'hospitalized': 3})\n",
      "Row((datetime.date(2021, 3, 7), 'AZ', 16328, 57907), {'date': 0, 'state': 1, 'death': 2, 'hospitalized': 3})\n"
     ]
    }
   ],
   "source": [
    "from google.cloud import bigquery\n",
    "\n",
    "client = bigquery.Client()\n",
    "\n",
    "QUERY = (\n",
    "    \"\"\"SELECT date, state, death, hospitalized \n",
    "         FROM `testable-features-poc.covid.us-states` \n",
    "        ORDER BY date DESC, state ASC\n",
    "        LIMIT 5\"\"\")\n",
    "query_job = client.query(QUERY)\n",
    "rows = query_job.result()\n",
    "\n",
    "for row in rows:\n",
    "    print(row)"
   ]
  },
  {
   "cell_type": "markdown",
   "id": "573799f1-d452-40be-ba70-1f39bf8bae7d",
   "metadata": {
    "tags": []
   },
   "source": [
    "## Define & validate feature\n",
    "We'll define the feature in our notebook, and without publishing it, validate it against production data.\n",
    "\n",
    "I doubt developers will get direct access to production data on their notebooks, so in practice, we'll probably need a service that proxies these requests between local environments and various prod and pre-prod environments."
   ]
  },
  {
   "cell_type": "code",
   "execution_count": 9,
   "id": "875b398d-c658-4af8-a977-d755983f98b5",
   "metadata": {},
   "outputs": [],
   "source": [
    "from client import FeaturesClient, FeatureDefinition\n",
    "import os\n",
    "\n",
    "# TODO: parameters and sources can be dictionaries, not lists\n",
    "feature_def = FeatureDefinition(\"\"\"\n",
    "  parameters:\n",
    "    - foo: bar\n",
    "  sources:\n",
    "    - source1: \n",
    "        prod: testable-features-poc.covid.us-states\n",
    "  query: |\n",
    "    SELECT death\n",
    "      FROM `{{ source1 }}`\n",
    "     WHERE state = '{{ state }}'\n",
    "     ORDER BY date DESC\n",
    "     LIMIT 1\n",
    "\"\"\")\n",
    "\n",
    "c = FeaturesClient.load_feature(feature_def)"
   ]
  },
  {
   "cell_type": "code",
   "execution_count": 13,
   "id": "0652b875-4079-4240-9b49-445688d6cac1",
   "metadata": {},
   "outputs": [
    {
     "data": {
      "text/plain": [
       "1030"
      ]
     },
     "execution_count": 13,
     "metadata": {},
     "output_type": "execute_result"
    }
   ],
   "source": [
    "# connect to production environ to validate result\n",
    "os.environ[\"ENV\"] = \"prod\" \n",
    "\n",
    "# this is a non-blocking LRO, like a future/promise...\n",
    "c.inference(state=\"DC\")    # expect 1030"
   ]
  },
  {
   "cell_type": "markdown",
   "id": "f3e07fae-dd44-4d64-b8cd-623a505f5d7b",
   "metadata": {},
   "source": [
    "# Unit test\n",
    "\n",
    "Now we'll write junit tests, enabling us to repeatedly validate our feature definition as well as test out edge cases."
   ]
  },
  {
   "cell_type": "code",
   "execution_count": 11,
   "id": "4e06c05f-1197-467c-a441-ac986bffe7cc",
   "metadata": {},
   "outputs": [],
   "source": [
    "# Condition via CSV file.\n",
    "#   Behind the scenes, this will load the CSV data into GBQ and create a reference to this table in feature definition\n",
    "\n",
    "data = \"\"\"\n",
    "\"date\",\"state\",\"death\"\n",
    "\"2021-11-27\",\"DC\",123\n",
    "\"2021-11-27\",\"VA\",456\n",
    "\"\"\"\n",
    "\n",
    "c.condition_env(\"dev\", data)"
   ]
  },
  {
   "cell_type": "code",
   "execution_count": 14,
   "id": "f15864a2-2ff5-49b0-9f80-cc03001704f7",
   "metadata": {},
   "outputs": [],
   "source": [
    "# Switch to local development environment, which will use the data we conditioned\n",
    "os.environ[\"ENV\"] = \"dev\"\n",
    "\n",
    "# pytest goes here...\n",
    "assert 123 == c.inference(state=\"DC\")\n",
    "assert None == c.inference(state=\"quebec\")"
   ]
  },
  {
   "cell_type": "markdown",
   "id": "88459bd5-161d-4a54-b56d-5b3e47d090bd",
   "metadata": {},
   "source": [
    "Note results are different for `dev` and `prod` environments. We can switch back to `prod` to resume querying from production database:"
   ]
  },
  {
   "cell_type": "code",
   "execution_count": 15,
   "id": "b4be1183-4cdb-4c8f-ae49-6d57a91f2dd4",
   "metadata": {},
   "outputs": [
    {
     "data": {
      "text/plain": [
       "1030"
      ]
     },
     "execution_count": 15,
     "metadata": {},
     "output_type": "execute_result"
    }
   ],
   "source": [
    "os.environ[\"ENV\"] = \"prod\" \n",
    "\n",
    "c.inference(state=\"DC\")    # expect 1030"
   ]
  },
  {
   "cell_type": "code",
   "execution_count": null,
   "id": "8c6154c3-b9a9-4b2c-82ff-50db0d75a588",
   "metadata": {},
   "outputs": [],
   "source": []
  }
 ],
 "metadata": {
  "kernelspec": {
   "display_name": "Python 3 (ipykernel)",
   "language": "python",
   "name": "python3"
  },
  "language_info": {
   "codemirror_mode": {
    "name": "ipython",
    "version": 3
   },
   "file_extension": ".py",
   "mimetype": "text/x-python",
   "name": "python",
   "nbconvert_exporter": "python",
   "pygments_lexer": "ipython3",
   "version": "3.8.12"
  }
 },
 "nbformat": 4,
 "nbformat_minor": 5
}
